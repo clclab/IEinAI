{
  "cells": [
    {
      "cell_type": "markdown",
      "metadata": {
        "id": "QCxnPWqNOHUU"
      },
      "source": [
        "# Music & Speech Generation lab placeholder\n",
        "\n",
        "TBA (Marcel & Charlotte)"
      ]
    },
    {
      "cell_type": "code",
      "execution_count": null,
      "metadata": {
        "vscode": {
          "languageId": "plaintext"
        }
      },
      "outputs": [],
      "source": [
        "print(\"Hello world\")"
      ]
    }
  ],
  "metadata": {
    "accelerator": "GPU",
    "colab": {
      "provenance": []
    },
    "gpuClass": "standard",
    "kernelspec": {
      "display_name": "Python 3",
      "name": "python3"
    },
    "language_info": {
      "name": "python",
      "version": "3.10.12"
    }
  },
  "nbformat": 4,
  "nbformat_minor": 0
}
