{
  "nbformat": 4,
  "nbformat_minor": 0,
  "metadata": {
    "colab": {
      "provenance": []
    },
    "kernelspec": {
      "name": "python3",
      "display_name": "Python 3"
    },
    "language_info": {
      "name": "python"
    }
  },
  "cells": [
    {
      "cell_type": "markdown",
      "source": [
        "# Workshop 0: Introduction to Posthoc Interpretability\n",
        "*Interpretability & Explainability in AI*, MSc A.I., University of Amsterdam, June 2023\n",
        "\n",
        "## Lab 1: Probing Language Models\n",
        "\n",
        "**Credits**: *Text and code by Jaap Jumelet (May 2022). Editing & additional questions/assignments by Jelle Zuidema. This notebook makes use of many different libraries including crucially NLTK and Hugging Face's Transformers library, and the trained weights of the RoBERTa-base model and the RoBERTa-base-SST2 version (trained by researchers of FAIR; fine-tuned for the SST-2 dataset of Stanford University, and provided by Hugging Face). RoBERTa is described in this paper: https://arxiv.org/abs/1907.11692*\n",
        "\n",
        "### Background\n",
        "NLP ultimately aims to develop systems that possess a truly comprehensive understanding of language, an understanding that is able to systematically generalise to new scenarios, based on a fundamental apprehension of the core structures of language.\n",
        "Contemporary approaches adhere to an *unsupervised* paradigm, driven by enormous amounts of data, which has led to a series of breakthroughs in the field.\n",
        "These successes have been supported by an exponential increase in computing power, and by using *deep learning* models such as neural networks.\n",
        "However, employing neural networks comes at a great loss of transparency; while their impressive performance is commendable, it is no longer evident how these models operate.\n",
        "This has given rise to a new line of research that aims to uncover the internal dynamics of these models, in a similar manner to how psycholinguistics attempts to unravel the mysteries of human language processing.\n",
        "\n",
        "In this assignment, we will focus our investigation on **language models**.\n",
        "These are models that assign a probability to the next token in a sentence, conditioned on a prior context.\n",
        "To do this proficiently, they should be able to thoroughly grasp a sentence on both a syntactic and semantic level: by keeping track of information on the subject, the topic of the sentence, the action being performed, etc.\n",
        "This makes these systems perfectly suited for investigating current NLP systems, as there are few tasks that require such a comprehensive understanding of language as language modelling does.\n",
        "\n",
        "In recent years, there has been considerable interest into analysing the linguistic capacities of language models.\n",
        "Most of these analyses approach language modelling from a behavioural angle, investigating a model's output behaviour on a specific linguistic phenomenon (e.g. [Gulordava et al. (2018)](https://aclanthology.org/N18-1108/) and [Marvin & Linzen (2018)](https://aclanthology.org/D18-1151/)).\n",
        "This approach has yielded a substantial understanding of *what* phenomena these models understand, but does not necessarily provide clues on *how* these phenomena are processed.\n",
        "\n",
        "### Probing\n",
        "The linguistic dynamics of a language model can be assessed in several ways.\n",
        "In this assignment we will focus on using **probing tasks**.\n",
        "These tasks allow us to *probe* a model's representations using *diagnostic classifiers* ([Hupkes et al. (2018)](https://scholar.google.com/citations?view_op=view_citation&hl=nl&user=tAtSMTcAAAAJ&citation_for_view=tAtSMTcAAAAJ:2osOgNQ5qMEC), also simply referred to as *probes*).\n",
        "Diagnostic classifiers are simple (i.e. often linear) classifiers that are trained on top of the representations of a model.\n",
        "This allows us to uncover (linguistic) properties that are encoded in a representation.\n",
        "\n",
        "Note, however, that the probing paradigm is not restricted to NLP at all, and has been applied in a wide range of application domains, such as chess, vision, and bio-informatics, as has and will be discussed in the lectures. Probing serves as a general tool of uncovering what kind of properties are encoded in the high-dimensional representations of deep neural nets.\n",
        "\n",
        "## Assignment\n",
        "In this short introductory assignment we will be probing language models for **sentiment**. Sentiment classification is a simple yet common task in NLP, and is nowadays performed as a *fine-tuning* procedure: based on a pre-trained language model we fine-tune the full model on an annotated data set containing sentiment labels. This is often done on a sentence-level, but sentiment of a sentence is the result of a compositional application of sentiment at a lexical level. \n",
        "\n",
        "You will train probes on the hidden states of a fine-tuned RoBERTa model, to gain insights into how sentiment is represented in these models *across layers*. You will compare these results with the probing results obtained for a *non-*fine-tuned RoBERTa model, i.e. the pre-trained language model that was originally used for fine-tuning it.\n",
        "\n",
        "This notebook already contains a lot of code to handle the processing of the data, and the extraction of the hidden states of the model, so that you can fully focus on the probing itself.\n",
        "\n",
        "##ToSubmit: workshop-0 report\n",
        "Note: answers to the questions marked as ToSubmit (and only those!) need to be submitted as part of your (very brief) Workshop-0 report. That report is individual work, but during the workshop you are encouraged to work together and help each other."
      ],
      "metadata": {
        "id": "dGLyJeJ5yNuL"
      }
    },
    {
      "cell_type": "markdown",
      "source": [
        "## Configuration\n",
        "\n",
        "Don't forget to enable the GPU runtime at the top! (Runtime -> Change runtime type)\n",
        "\n",
        "And point add the directory in which you are running this notebook in the bottom of this cell."
      ],
      "metadata": {
        "id": "hx9keWHg0glj"
      }
    },
    {
      "cell_type": "code",
      "execution_count": null,
      "metadata": {
        "id": "RJH7iLyQrcLN",
        "colab": {
          "base_uri": "https://localhost:8080/"
        },
        "outputId": "fb4f5d1e-fcca-406f-b9b7-223108045ae4"
      },
      "outputs": [
        {
          "output_type": "stream",
          "name": "stdout",
          "text": [
            "Mounted at /content/drive\n"
          ]
        }
      ],
      "source": [
        "from tqdm import *\n",
        "from typing import * \n",
        "\n",
        "import torch\n",
        "import torch.nn.functional as F \n",
        "\n",
        "DEVICE = \"cuda\" if torch.cuda.is_available() else \"cpu\"\n",
        "\n",
        "# Mount to drive so we can access our own files\n",
        "from google.colab import drive\n",
        "drive.mount('/content/drive')"
      ]
    },
    {
      "cell_type": "markdown",
      "source": [
        "# The natural language dataset"
      ],
      "metadata": {
        "id": "IrsSX-RxYCkY"
      }
    },
    {
      "cell_type": "markdown",
      "source": [
        "The data we will be using is the SST sentiment treebank, that also contains sentiment labels at the word-level."
      ],
      "metadata": {
        "id": "OLcTRMWx1P2Z"
      }
    },
    {
      "cell_type": "markdown",
      "source": [
        "<font color='green'><b>ToDo 1</b></font>\n",
        "\n",
        "+ Create a folder IEinAI in the home directory of your Google Drive\n",
        "+ Store the current notebook in that folder!\n",
        "+ Download the corpus, using the following command:"
      ],
      "metadata": {
        "id": "SkBd7nhhQmoe"
      }
    },
    {
      "cell_type": "code",
      "source": [
        "# IMPORTANT: Point this towards the drive folder in which you have stored this notebook\n",
        "%cd /content/drive/My Drive/IEinAI\n",
        "\n",
        "!pip install gdown\n",
        "# Download a drive folder containing train.txt, dev.txt, and test.txt.\n",
        "# If you want to do this manually you can find the folder here:\n",
        "# https://drive.google.com/drive/folders/1UbiuZbIAPq30BvVgB4wg0z6imqaSNiIa?usp=sharing\n",
        "!gdown --folder 1UbiuZbIAPq30BvVgB4wg0z6imqaSNiIa"
      ],
      "metadata": {
        "colab": {
          "base_uri": "https://localhost:8080/"
        },
        "id": "rk52mECRQkZW",
        "outputId": "cb370616-437f-4f2a-9709-be81a599c228"
      },
      "execution_count": null,
      "outputs": [
        {
          "output_type": "stream",
          "name": "stdout",
          "text": [
            "/content/drive/My Drive/IEinAI\n"
          ]
        }
      ]
    },
    {
      "cell_type": "code",
      "source": [
        "import nltk\n",
        "\n",
        "def load_corpus(file_name, is_binary=True):\n",
        "    with open(file_name) as f:\n",
        "        raw_trees = f.readlines()\n",
        "\n",
        "    nltk_trees = [nltk.Tree.fromstring(raw_tree) for raw_tree in raw_trees]\n",
        "\n",
        "    token_labels = []\n",
        "    raw_sentences = []\n",
        "    sentence_labels = []\n",
        "\n",
        "    for tree in nltk_trees:\n",
        "        try:\n",
        "            token_labels.append(extract_token_labels(tree))\n",
        "            raw_sentences.append(\" \".join(tree.leaves()))\n",
        "            sentence_labels.append(int(tree.label()))\n",
        "        except AttributeError:\n",
        "            # There's a few ill-formed trees in the data, we just skip over these\n",
        "            continue\n",
        "\n",
        "    return token_labels, raw_sentences, torch.tensor(sentence_labels)\n",
        "\n",
        "\n",
        "def extract_token_labels(tree):\n",
        "    \"\"\"Extracts the token-level sentiments from the tree, recursively. \"\"\"\n",
        "\n",
        "    if len(tree) == 1:\n",
        "        # Leaf has been reached\n",
        "        return [(tree[0], int(tree.label()))]\n",
        "    else:\n",
        "        # Recursively descend into children of current node\n",
        "        return [\n",
        "            (item, label)\n",
        "            for subtree in tree\n",
        "            for item, label in extract_token_labels(subtree)\n",
        "        ]"
      ],
      "metadata": {
        "id": "A3JuywuZ1QD6"
      },
      "execution_count": null,
      "outputs": []
    },
    {
      "cell_type": "markdown",
      "source": [
        "<font color='green'><b>ToDo 2</b></font>\n",
        "\n",
        "+ Load the corpus, e.g. with \n",
        "```\n",
        "all_token_labels, all_sentences, sentence_labels = load_corpus('data/train.txt')\n",
        "```\n",
        "+ Look at a couple of sentences; e.g. sentence #117\n",
        "+ Look at the token labels and determine which of the words have negative ($< 2$) and which have positive sentiment ($>2$).\n",
        "\n"
      ],
      "metadata": {
        "id": "S3_7Y6KDWE-N"
      }
    },
    {
      "cell_type": "code",
      "source": [
        "# your code here"
      ],
      "metadata": {
        "id": "oUkM-bPHHebt"
      },
      "execution_count": null,
      "outputs": []
    },
    {
      "cell_type": "markdown",
      "source": [
        "<font color='red'><b>ToSubmit 1</b></font>\n",
        "Include one example sentence (different from the one above) in your report, with words with negative and positive sentiment marked."
      ],
      "metadata": {
        "id": "NX--xpZKOlpt"
      }
    },
    {
      "cell_type": "markdown",
      "source": [
        "We are only interested in probing the sentiment for words that actually contain sentiment (*great, terrible, mediocre*). To ensure this, we'll create a **mask** that tells us at which positions in our corpus the sentiment words are located.\n",
        "\n",
        "Furthermore, for the sake of simplicity we will only be considering words that are not split up into multiple subwords by the model tokenizer. (Current language models, such as the Transformer models that we look at in this Lab, make use of **subword tokenization**, which may split up a longer word into multiple subwords: `\"ungrateful\"` could become `\"un\" + \"grate\" + \"ful\"`. This makes probing a bit harder, because it's hard to tell how sentiment is distributed over these multiple subwords)."
      ],
      "metadata": {
        "id": "s_Ofzq0u1lqy"
      }
    },
    {
      "cell_type": "code",
      "source": [
        "#@title Function to create a mask for sentiment-carrying words (needs access to model's tokenizer)\n",
        "\n",
        "from tqdm import *\n",
        "\n",
        "def create_sen_masks(\n",
        "    input_ids, all_token_labels, tokenizer, sentiments=(0, 4), is_binary=True\n",
        "):\n",
        "    \"\"\"Returns a mask for the sentence positions that have a negative/positive sentiment\"\"\"\n",
        "    all_sen_masks = []\n",
        "    all_labels = []\n",
        "\n",
        "    for tokenised_sen, token_labels in tqdm_notebook(zip(input_ids.tolist(), all_token_labels)):\n",
        "        sen_mask = []\n",
        "        token_label_dict = dict(token_labels)\n",
        "\n",
        "        for w_idx, (token_id) in enumerate(tokenised_sen):\n",
        "            if token_id == 0:\n",
        "                sen_mask.append(False)\n",
        "                continue\n",
        "\n",
        "            word = tokenizer.convert_ids_to_tokens(token_id).replace(\"Ġ\", \"\")\n",
        "            if token_label_dict.get(word, -1) in sentiments:\n",
        "                sen_mask.append(True)\n",
        "                label = token_label_dict[word]\n",
        "                if is_binary:\n",
        "                    label = label > 2\n",
        "                all_labels.append(label)\n",
        "            else:\n",
        "                sen_mask.append(False)\n",
        "\n",
        "        all_sen_masks.append(torch.tensor(sen_mask))\n",
        "\n",
        "    padded_masks = torch.nn.utils.rnn.pad_sequence(all_sen_masks, batch_first=True)\n",
        "\n",
        "    return padded_masks, torch.tensor(all_labels)"
      ],
      "metadata": {
        "id": "yLQglDke1lwv"
      },
      "execution_count": null,
      "outputs": []
    },
    {
      "cell_type": "markdown",
      "source": [
        "# Loading the target models\n",
        "\n",
        "For loading the models we will be making use of Huggingface's transformer library, that has become the de facto standard for transformer models within NLP."
      ],
      "metadata": {
        "id": "pVUosiPi09Ew"
      }
    },
    {
      "cell_type": "code",
      "source": [
        "!pip install transformers\n",
        "\n",
        "import transformers\n",
        "from transformers import AutoTokenizer, AutoModelForSequenceClassification\n",
        "\n",
        "\n",
        "def load_model(path):\n",
        "    tokenizer = AutoTokenizer.from_pretrained(path)\n",
        "    model = AutoModelForSequenceClassification.from_pretrained(path)\n",
        "    model.eval()\n",
        "    model.to(DEVICE)\n",
        "\n",
        "    return model, tokenizer"
      ],
      "metadata": {
        "id": "WntY93CQAW9Y"
      },
      "execution_count": null,
      "outputs": []
    },
    {
      "cell_type": "markdown",
      "source": [
        "## Hidden state extraction\n",
        "\n",
        "The final step now is to actually extract the hidden states from the language models. We will store these in two separate dictionaries: \n",
        "- One containing the sentence-level hidden states (at the position of the special `CLS` token, on which the model was fine-tuned)\n",
        "- One containing the token-level hidden states, filtered by the mask that we created in the previous cell.\n",
        "\n",
        "Both these dictionaries contain the hidden states at each intermediate layer, starting at the bottom (these are just the input word embeddings), all the way to the top layer.\n",
        "\n",
        "![padding_and_mask.png](data:image/png;base64,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)"
      ],
      "metadata": {
        "id": "k7L9EvZS3FZG"
      }
    },
    {
      "cell_type": "markdown",
      "source": [
        "<font color='blue'><b>ToThink 1</b></font>\n",
        "In the diagram above you see a sketch of the typical Transformer setup for sentence classifications. As indicated, the CLS token in the output layer is typically used to determine the class (e.g. the sentiment class) of the whole sentence. Which other hidden states would be interesting targets for probing?"
      ],
      "metadata": {
        "id": "hQs988k4QKlq"
      }
    },
    {
      "cell_type": "code",
      "source": [
        "#@title Key functions for extracting the hidden states (for a given set of sentences)\n",
        "\n",
        "def extract_hidden_states(\n",
        "    input_ids, attention_mask, all_sen_masks, num_layers, batch_size=128\n",
        "):\n",
        "    token_states = {\n",
        "        layer_idx: torch.zeros(all_sen_masks.sum(), 768)\n",
        "        for layer_idx in range(num_layers)\n",
        "    }\n",
        "\n",
        "    cls_states = {\n",
        "        layer_idx: torch.zeros(all_sen_masks.size(0), 768)\n",
        "        for layer_idx in range(num_layers)\n",
        "    }\n",
        "\n",
        "    dataset = torch.utils.data.TensorDataset(input_ids, attention_mask, all_sen_masks)\n",
        "    data_loader = torch.utils.data.DataLoader(\n",
        "        dataset, batch_size=batch_size, shuffle=False\n",
        "    )\n",
        "\n",
        "    num_extracted = 0\n",
        "    sens_extracted = 0\n",
        "    layer_idx = 0\n",
        "\n",
        "    for batch_input_ids, batch_attention_mask, batch_sen_mask in tqdm_notebook(\n",
        "        data_loader, unit=\"batches\"\n",
        "    ):\n",
        "        with torch.no_grad():\n",
        "            all_hidden_states = model(\n",
        "                batch_input_ids,\n",
        "                attention_mask=batch_attention_mask,\n",
        "                output_hidden_states=True,\n",
        "            ).hidden_states\n",
        "\n",
        "        for layer_idx, hidden_states in enumerate(all_hidden_states):\n",
        "            hidden_states_subset = hidden_states[batch_sen_mask]\n",
        "            subset_size = hidden_states_subset.shape[0]\n",
        "\n",
        "            token_states[layer_idx][\n",
        "                num_extracted : num_extracted + subset_size\n",
        "            ] = hidden_states_subset.cpu()\n",
        "\n",
        "            cls_states[layer_idx][\n",
        "                sens_extracted : sens_extracted + batch_size\n",
        "            ] = hidden_states[:, 0].cpu()\n",
        "\n",
        "        num_extracted += subset_size\n",
        "        sens_extracted += batch_size\n",
        "\n",
        "    return token_states, cls_states"
      ],
      "metadata": {
        "id": "Bdt2NSzy3E17"
      },
      "execution_count": null,
      "outputs": []
    },
    {
      "cell_type": "markdown",
      "source": [
        "Finally, we create a method that ties all the previous steps together, and that will return the hidden states (on sentence & word level), and the corresponding labels. We will be storing these states and labels in a `data_dict` dictionary object, that contains the data for both the fine-tuned model and the base model.\n",
        "\n",
        "The original data contains five classes of fine-grained sentiment (including a neutral sentiment, '2'). This fine-grained task is much harder than the binary task, as can be seen in these leaderboards:\n",
        "- [Binary leaderboard](https://paperswithcode.com/sota/sentiment-analysis-on-sst-2-binary)\n",
        "- [Fine-grained leaderboard](https://paperswithcode.com/sota/sentiment-analysis-on-sst-5-fine-grained)\n",
        "\n",
        "We can therefore opt to binarise these labels: i.e. mapping 0 & 1 to a negative label, and 3 & 4 to a positive label. <font color='red'>Please implement this step yourself in the cell below.</font> \n",
        "\n",
        "----"
      ],
      "metadata": {
        "id": "E--NBAJv44xp"
      }
    },
    {
      "cell_type": "code",
      "source": [
        "#@title Key functions for creating the probing datasets\n",
        "def preprocess_cls_data(\n",
        "    cls_states: Dict[int, torch.Tensor], sentence_labels: torch.Tensor, is_binary: bool\n",
        "):\n",
        "    # Remove neutral sentences\n",
        "    for layer_idx, layer_states in cls_states.items():\n",
        "        cls_states[layer_idx] = layer_states[sentence_labels != 2]\n",
        "\n",
        "    sentence_labels = sentence_labels[sentence_labels != 2]\n",
        "\n",
        "    # Map fine-grained sentiments to binary labels\n",
        "    if is_binary:\n",
        "        raise NotImplementedError\n",
        "\n",
        "    return cls_states, sentence_labels\n",
        "\n",
        "\n",
        "def create_probe_data(path, model, tokenizer, num_layers, sentiments, is_binary):\n",
        "    all_token_labels, all_sentences, sentence_labels = load_corpus(path)\n",
        "\n",
        "    encoded_corpus = tokenizer(\n",
        "        all_sentences,\n",
        "        padding=True,\n",
        "        truncation=True,\n",
        "        return_tensors=\"pt\",\n",
        "    ).to(DEVICE)\n",
        "\n",
        "    input_ids = encoded_corpus.input_ids\n",
        "    attention_mask = encoded_corpus.attention_mask\n",
        "\n",
        "    all_sen_masks, token_labels = create_sen_masks(\n",
        "        input_ids,\n",
        "        all_token_labels,\n",
        "        tokenizer,\n",
        "        sentiments=sentiments,\n",
        "        is_binary=is_binary,\n",
        "    )\n",
        "\n",
        "    token_states, cls_states = extract_hidden_states(\n",
        "        input_ids, attention_mask, all_sen_masks, num_layers\n",
        "    )\n",
        "\n",
        "    cls_states, sentence_labels = preprocess_cls_data(cls_states, sentence_labels, is_binary)\n",
        "\n",
        "    return token_states, cls_states, token_labels, sentence_labels"
      ],
      "metadata": {
        "cellView": "form",
        "id": "xOnXMMybZR6l"
      },
      "execution_count": null,
      "outputs": []
    },
    {
      "cell_type": "markdown",
      "source": [
        "<font color='green'><b>ToDo 3</b></font>\n",
        "\n",
        "+ Download the Transformer library and the two target Transformer models, and run the hidden state extraction code;\n",
        "+ Or: download a file that contains all the RoBERTa hidden states that we will be using.\n",
        "+ Look at some examples of the hidden state tensors download or computed."
      ],
      "metadata": {
        "id": "x19ENJtbYnlj"
      }
    },
    {
      "cell_type": "code",
      "source": [
        "#@title Compute and store internal states (Note that running this cell may take a few minutes (and again, make sure GPU is enabled!))\n",
        "\n",
        "sentiments = (0, 1, 3, 4)\n",
        "is_binary = True\n",
        "\n",
        "models = [\n",
        "    (\"finetuned\", \"textattack/roberta-base-SST-2\"),\n",
        "    (\"base\", \"roberta-base\"),\n",
        "]\n",
        "\n",
        "data_dict = {}\n",
        "\n",
        "\n",
        "for name, path in models:\n",
        "    model, tokenizer = load_model(path)\n",
        "\n",
        "    num_layers = len(model.roberta.encoder.layer) + 1\n",
        "\n",
        "    train_X, cls_train_X, train_y, cls_train_y = create_probe_data(\n",
        "        \"data/train.txt\", model, tokenizer, num_layers, sentiments, is_binary\n",
        "    )\n",
        "    test_X, cls_test_X, test_y, cls_test_y = create_probe_data(\n",
        "        \"data/test.txt\", model, tokenizer, num_layers, sentiments, is_binary\n",
        "    )\n",
        "\n",
        "    data_dict[name] = {\n",
        "        \"train_X\": train_X,  # Dictionary mapping layer_idx -> tensor \n",
        "        \"train_y\": train_y,\n",
        "        \"test_X\": test_X,\n",
        "        \"test_y\": test_y,\n",
        "        \"cls_train_X\": cls_train_X,\n",
        "        \"cls_train_y\": cls_train_y,\n",
        "        \"cls_test_X\": cls_test_X,\n",
        "        \"cls_test_y\": cls_test_y,\n",
        "    }\n"
      ],
      "metadata": {
        "id": "khe4SEYKFjzf",
        "cellView": "form"
      },
      "execution_count": null,
      "outputs": []
    },
    {
      "cell_type": "markdown",
      "source": [
        "Instead of extracting the hidden states manually, you can also download them directly by running the following cell:"
      ],
      "metadata": {
        "id": "8ANs8AnEsBQW"
      }
    },
    {
      "cell_type": "code",
      "source": [
        "#@title Download and store precomputed hidden states\n",
        "# Stores the hidden states as a data_dict.pt file. \n",
        "!gdown 1vFNdE6iHguHoddWbj640w7DRQSkY8F-c\n",
        "\n",
        "# In case gdown gives an error (this happens if too many people download it), you can also try the following:\n",
        "# !wget -O data_dict.pt https://surfdrive.surf.nl/files/index.php/s/9RLi10OFNIxzIhf/download\n",
        "\n",
        "data_dict = torch.load(\"data_dict.pt\")"
      ],
      "metadata": {
        "id": "VENxUtl4Z_gh"
      },
      "execution_count": 7,
      "outputs": []
    },
    {
      "cell_type": "markdown",
      "source": [
        "\n",
        "\n",
        "---\n",
        "\n"
      ],
      "metadata": {
        "id": "sPB4OL_2bSks"
      }
    },
    {
      "cell_type": "markdown",
      "source": [
        "## Probing\n",
        "\n",
        "We have now come to the core of the assignment. The first goal is to probe the sentence-level (`CLS`) states of our model. For the probes you can make use of the `LogisticRegression` class of the `sklearn` module, but a different linear classifier of your liking is fine as well.\n",
        "\n",
        "You will train a probes on all the intermediate layers as well (that is, a separate probe for each layer, don't train a single probe on all layers at once)."
      ],
      "metadata": {
        "id": "xlRZBSAQ5ZJY"
      }
    },
    {
      "cell_type": "code",
      "source": [
        "from sklearn.linear_model import LogisticRegression\n",
        "from sklearn.metrics import accuracy_score\n",
        "\n",
        "import warnings\n",
        "\n",
        "warnings.filterwarnings(\"ignore\")\n",
        "\n",
        "\n",
        "num_layers=12\n",
        "\n",
        "cls_probes = {\n",
        "    model_name: {\n",
        "        layer_idx: LogisticRegression(solver=\"liblinear\", penalty=\"l2\", max_iter=10)\n",
        "        for layer_idx in range(num_layers)\n",
        "    }\n",
        "    for model_name in data_dict.keys()\n",
        "}\n",
        "\n",
        "cls_probe_results = {\n",
        "    model_name: []\n",
        "    for model_name in data_dict.keys()\n",
        "}\n",
        "\n",
        "for model_name in cls_probes.keys():\n",
        "    for layer_idx in range(num_layers):\n",
        "        # Skip neutral sentence and binarise sentiment classification\n",
        "        train_X, train_y = (\n",
        "            data_dict[model_name][\"cls_train_X\"][layer_idx], \n",
        "            data_dict[model_name][\"cls_train_y\"]\n",
        "        )\n",
        "\n",
        "        cls_probes[model_name][layer_idx].fit(train_X, train_y)\n",
        "\n",
        "        test_X, test_y = (\n",
        "            data_dict[model_name][\"cls_test_X\"][layer_idx], \n",
        "            data_dict[model_name][\"cls_test_y\"]\n",
        "        )\n",
        "\n",
        "        test_pred = cls_probes[model_name][layer_idx].predict(test_X)\n",
        "        test_acc = accuracy_score(test_pred, test_y)\n",
        "\n",
        "        cls_probe_results[model_name].append(test_acc)"
      ],
      "metadata": {
        "id": "1i0sCtsLqUh7"
      },
      "execution_count": null,
      "outputs": []
    },
    {
      "cell_type": "code",
      "source": [
        "#@title Plotting these results\n",
        "\n",
        "import matplotlib.pyplot as plt\n",
        "\n",
        "fig, axes = plt.subplots(1, 2, sharey=True, figsize=(10,3))\n",
        "\n",
        "for model_name, results in cls_probe_results.items():\n",
        "    axes[0].plot(results, 'o-', lw=2, markersize=3, label=model_name)\n",
        "\n",
        "axes[0].legend()\n",
        "axes[0].set_ylim(0.5,1.0)\n",
        "axes[0].set_title(\"Sentence sentiment\")\n",
        "\n",
        "plt.show()"
      ],
      "metadata": {
        "id": "j8dqrh3ldGY7"
      },
      "execution_count": null,
      "outputs": []
    },
    {
      "cell_type": "markdown",
      "source": [
        "<font color='blue'><b>ToThink 2</b></font>\n",
        "What differences do you observe between the fine-tuned model and the base model in the results above that do sentence-level probing (i.e. that probe at the CLS node of the output layer?)"
      ],
      "metadata": {
        "id": "n9kHKwOocWJb"
      }
    },
    {
      "cell_type": "markdown",
      "source": [
        "<font color='green'><b>ToDo 4:</b></font>\n",
        "\n",
        "Now, let's probe for the lexical sentiment. The setup will same as for the `CLS` probe, but now with the word-level hidden states and labels.\n",
        "\n",
        "(i.e. you need to adapt the code above, such that you do not read ```cls_train_x``` etc from the probing dataset, but read the internal states from nodes for sentiment-carrying words instead)."
      ],
      "metadata": {
        "id": "0Dr5CU7aolH6"
      }
    },
    {
      "cell_type": "code",
      "source": [
        "## Your code for probing the word-level states"
      ],
      "metadata": {
        "id": "qn3Q8PD6fdn4"
      },
      "execution_count": null,
      "outputs": []
    },
    {
      "cell_type": "markdown",
      "source": [
        "<font color='red'><b>ToSubmit 2:</b></font>\n",
        "\n",
        "Include a plot in your Workshop-0 Report that shows both the sentence-level (CLS) and the word-level probing results."
      ],
      "metadata": {
        "id": "dw3mgoZLfrGo"
      }
    },
    {
      "cell_type": "markdown",
      "source": [
        "<font color='blue'><b>ToThink 3</b></font>\n",
        "\n",
        "What differences do you observe between the fine-tuned model and the base model?"
      ],
      "metadata": {
        "id": "gxRWgICucOMA"
      }
    },
    {
      "cell_type": "markdown",
      "source": [
        "Finally, we can also use a probe that has been trained on one type of representation (e.g. on `layer #3`), and evaluate that probe on a different representation (e.g. that of `layer #9`). \n",
        "\n",
        "\n",
        "\n",
        "```\n",
        "cross_pred = probes[\"base\"][3].predict(data_dict[\"base\"][\"test_X\"][9])\n",
        "accuracy_score(cross_pred, data_dict[\"base\"][\"test_y\"])\n",
        "```\n",
        "\n",
        "This gives us insights into how the representation of a property changes across the model: if this is fairly stable cross-evaluating `probe/layer #3` on `layer #9` would give somewhat similar accuracy as evaluating it on `layer #3`.\n",
        "\n",
        "This idea has been applied earlier by [Giulianelli et al. (2018)](https://arxiv.org/pdf/1808.08079.pdf), in the Temporal Generalization Matrices of Figures 3 and 4, where crossaccuracy across hidden layer activation at different timesteps is computed (whereas here we compute crossaccuracy across different layers).\n",
        "\n"
      ],
      "metadata": {
        "id": "Fn0FG2mbuZ43"
      }
    },
    {
      "cell_type": "markdown",
      "source": [
        "<font color='green'><b>ToDo 5:</b></font>\n",
        "\n",
        "Write the code for computing cross-layer accuracy for all combinations of layers."
      ],
      "metadata": {
        "id": "Q-lB-a8rlMPq"
      }
    },
    {
      "cell_type": "code",
      "source": [
        "## Your code for computing the cross-layer accuracy"
      ],
      "metadata": {
        "id": "ZpoCJ1IJ-1dJ"
      },
      "execution_count": null,
      "outputs": []
    },
    {
      "cell_type": "markdown",
      "source": [
        "<font color='blue'><b>ToThink 4:</b></font>\n",
        "\n",
        "How does the representation of sentiment evolve across the layers? What differences do you observe between base and fine-tuned models?"
      ],
      "metadata": {
        "id": "_y6HVVCuj908"
      }
    },
    {
      "cell_type": "markdown",
      "source": [
        "<font color='red'><b>ToSubmit 3:</b></font>\n",
        "Include in your report a plot of the cross-accuracy matrix: the matrix that gives for each combination of layers $<i,j>$ the accuracy of a probe trained on layer $i$ when trying to predict the sentiment at layer $j$. Write a brief caption to the figure that explains in two or three sentences how you intepret the observed pattern of results."
      ],
      "metadata": {
        "id": "fekaWMbAkNvb"
      }
    },
    {
      "cell_type": "markdown",
      "source": [
        "<font color='blue'><b>ToThink 5:</b></font>\n",
        "\n",
        "1. **Is lexical sentiment better represented linearly in a fine-tuned model than in its base, pre-trained version? How does this compare to sentence-level sentiment?**\n",
        "2. **Is sentiment information represented stably across layers?**"
      ],
      "metadata": {
        "id": "6RZ9aMoS2riC"
      }
    }
  ]
}