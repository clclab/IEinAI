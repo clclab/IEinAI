{
  "nbformat": 4,
  "nbformat_minor": 0,
  "metadata": {
    "colab": {
      "provenance": []
    },
    "kernelspec": {
      "name": "python3",
      "display_name": "Python 3"
    },
    "language_info": {
      "name": "python"
    },
    "accelerator": "GPU",
    "gpuClass": "standard"
  },
  "cells": [
    {
      "cell_type": "markdown",
      "source": [
        "# Week 3 Lab 1: DeepLTL data analysis (I)"
      ],
      "metadata": {
        "id": "QCxnPWqNOHUU"
      }
    },
    {
      "cell_type": "markdown",
      "source": [
        "## –1– Model & Data generation\n",
        "\n",
        "Step 1: Cloning the repository and accessing it from Colab\n",
        "\n",
        "https://github.com/reactive-systems/deepltl\n",
        "\n",
        "https://medium.com/analytics-vidhya/how-to-use-google-colab-with-github-via-google-drive-68efb23a42d\n",
        "\n",
        "Step 2: Installing DeepLTL\n",
        "\n",
        "NB: installation fails with default\n",
        "> !pip install .\n",
        "\n",
        "Instead install python-sat using\n",
        "> pip install python-sat\n",
        "\n",
        "\n",
        "Step 3: Installing Spot\n",
        "\n",
        "https://spot.lrde.epita.fr/install.html"
      ],
      "metadata": {
        "id": "dDW349ayMjo7"
      }
    },
    {
      "cell_type": "code",
      "execution_count": null,
      "metadata": {
        "id": "ktIbokOo4yeX"
      },
      "outputs": [],
      "source": [
        "from google.colab import drive\n",
        "drive.mount('/content/drive')"
      ]
    },
    {
      "cell_type": "code",
      "source": [
        "%cd /content/drive/MyDrive/Github/deepltl/deepltl"
      ],
      "metadata": {
        "id": "4YXkwexj6zB_"
      },
      "execution_count": null,
      "outputs": []
    },
    {
      "cell_type": "code",
      "source": [
        "!git status"
      ],
      "metadata": {
        "id": "BoKjJgtV9Ruq"
      },
      "execution_count": null,
      "outputs": []
    },
    {
      "cell_type": "code",
      "source": [
        "!python --version"
      ],
      "metadata": {
        "id": "uEbIuQ_7J2wA"
      },
      "execution_count": null,
      "outputs": []
    },
    {
      "cell_type": "code",
      "source": [
        "pip install python-sat"
      ],
      "metadata": {
        "id": "i_MA6CwXJ4bc"
      },
      "execution_count": null,
      "outputs": []
    },
    {
      "cell_type": "code",
      "source": [
        "python -m deepltl.train.train_transformer --problem='ltl' --ds-name='ltl-35' --epochs=5"
      ],
      "metadata": {
        "id": "sOPBN0KehJ1S"
      },
      "execution_count": null,
      "outputs": []
    },
    {
      "cell_type": "code",
      "source": [
        "!pip install -q condacolab"
      ],
      "metadata": {
        "id": "FgCFQFbroMlN"
      },
      "execution_count": null,
      "outputs": []
    },
    {
      "cell_type": "code",
      "source": [
        "import condacolab\n"
      ],
      "metadata": {
        "id": "5H9anO4uoPSq"
      },
      "execution_count": null,
      "outputs": []
    },
    {
      "cell_type": "code",
      "source": [
        "condacolab.install()"
      ],
      "metadata": {
        "colab": {
          "base_uri": "https://localhost:8080/"
        },
        "id": "Govs047foPJV",
        "outputId": "668c302b-cb9e-4a62-aa47-28abc253a1d6"
      },
      "execution_count": null,
      "outputs": [
        {
          "output_type": "stream",
          "name": "stdout",
          "text": [
            "⏬ Downloading https://github.com/jaimergp/miniforge/releases/latest/download/Mambaforge-colab-Linux-x86_64.sh...\n",
            "📦 Installing...\n",
            "📌 Adjusting configuration...\n",
            "🩹 Patching environment...\n",
            "⏲ Done in 0:00:35\n",
            "🔁 Restarting kernel...\n"
          ]
        }
      ]
    },
    {
      "cell_type": "code",
      "source": [
        "!conda --version"
      ],
      "metadata": {
        "colab": {
          "base_uri": "https://localhost:8080/"
        },
        "id": "oqg6ArTvoW5U",
        "outputId": "557b1f63-7d7c-414d-da25-c99895eaaed7"
      },
      "execution_count": null,
      "outputs": [
        {
          "output_type": "stream",
          "name": "stdout",
          "text": [
            "conda 4.9.2\n"
          ]
        }
      ]
    },
    {
      "cell_type": "code",
      "source": [
        "!conda install -c conda-forge spot"
      ],
      "metadata": {
        "colab": {
          "base_uri": "https://localhost:8080/"
        },
        "id": "ZfEbyYAiofdr",
        "outputId": "885373e9-1802-4efd-cb73-15146617ed6a"
      },
      "execution_count": null,
      "outputs": [
        {
          "output_type": "stream",
          "name": "stdout",
          "text": [
            "Collecting package metadata (current_repodata.json): - \b\b\\ \b\b| \b\b/ \b\b- \b\b\\ \b\b| \b\b/ \b\b- \b\b\\ \b\b| \b\b/ \b\b- \b\b\\ \b\b| \b\b/ \b\b- \b\b\\ \b\b| \b\b/ \b\b- \b\b\\ \b\b| \b\b/ \b\b- \b\b\\ \b\b| \b\b/ \b\b- \b\b\\ \b\b| \b\b/ \b\b- \b\b\\ \b\b| \b\b/ \b\b- \b\b\\ \b\b| \b\b/ \b\b- \b\b\\ \b\b| \b\b/ \b\b- \b\b\\ \b\b| \b\b/ \b\b- \b\b\\ \b\b| \b\b/ \b\b- \b\b\\ \b\b| \b\b/ \b\b- \b\b\\ \b\b| \b\b/ \b\b- \b\b\\ \b\b| \b\b/ \b\b- \b\b\\ \b\b| \b\b/ \b\b- \b\b\\ \b\b| \b\b/ \b\b- \b\b\\ \b\b| \b\b/ \b\b- \b\b\\ \b\b| \b\b/ \b\b- \b\b\\ \b\bdone\n",
            "Solving environment: / \b\b- \b\b\\ \b\b| \b\b/ \b\b- \b\b\\ \b\b| \b\b/ \b\b- \b\b\\ \b\b| \b\b/ \b\b- \b\b\\ \b\b| \b\b/ \b\b- \b\b\\ \b\b| \b\b/ \b\b- \b\b\\ \b\b| \b\b/ \b\b- \b\b\\ \b\b| \b\b/ \b\b- \b\b\\ \b\b| \b\b/ \b\bdone\n",
            "\n",
            "## Package Plan ##\n",
            "\n",
            "  environment location: /usr/local\n",
            "\n",
            "  added / updated specs:\n",
            "    - spot\n",
            "\n",
            "\n",
            "The following packages will be downloaded:\n",
            "\n",
            "    package                    |            build\n",
            "    ---------------------------|-----------------\n",
            "    atk-1.0-2.36.0             |       h3371d22_4         560 KB  conda-forge\n",
            "    ca-certificates-2022.6.15  |       ha878542_0         149 KB  conda-forge\n",
            "    cairo-1.16.0               |    ha61ee94_1011         1.5 MB  conda-forge\n",
            "    certifi-2022.6.15          |   py37h89c1867_0         155 KB  conda-forge\n",
            "    cffi-1.15.0                |   py37h036bc23_0         225 KB  conda-forge\n",
            "    conda-4.13.0               |   py37h89c1867_1         989 KB  conda-forge\n",
            "    expat-2.4.8                |       h27087fc_0         187 KB  conda-forge\n",
            "    font-ttf-dejavu-sans-mono-2.37|       hab24e00_0         388 KB  conda-forge\n",
            "    font-ttf-inconsolata-3.000 |       h77eed37_0          94 KB  conda-forge\n",
            "    font-ttf-source-code-pro-2.038|       h77eed37_0         684 KB  conda-forge\n",
            "    font-ttf-ubuntu-0.83       |       hab24e00_0         1.9 MB  conda-forge\n",
            "    fontconfig-2.14.0          |       h8e229c2_0         305 KB  conda-forge\n",
            "    fonts-conda-ecosystem-1    |                0           4 KB  conda-forge\n",
            "    fonts-conda-forge-1        |                0           4 KB  conda-forge\n",
            "    freetype-2.10.4            |       h0708190_1         890 KB  conda-forge\n",
            "    fribidi-1.0.10             |       h36c2ea0_0         112 KB  conda-forge\n",
            "    gdk-pixbuf-2.42.8          |       hff1cb4f_0         595 KB  conda-forge\n",
            "    gettext-0.19.8.1           |    h73d1719_1008         3.6 MB  conda-forge\n",
            "    giflib-5.2.1               |       h36c2ea0_2          77 KB  conda-forge\n",
            "    graphite2-1.3.13           |    h58526e2_1001         102 KB  conda-forge\n",
            "    graphviz-4.0.0             |       h5abf519_0         2.7 MB  conda-forge\n",
            "    gtk2-2.24.33               |       h90689f9_2         7.4 MB  conda-forge\n",
            "    gts-0.7.6                  |       h64030ff_2         411 KB  conda-forge\n",
            "    harfbuzz-4.3.0             |       hf9f4e7c_0         2.0 MB  conda-forge\n",
            "    icu-70.1                   |       h27087fc_0        13.5 MB  conda-forge\n",
            "    jpeg-9e                    |       h166bdaf_1         268 KB  conda-forge\n",
            "    lerc-3.0                   |       h9c3ff4c_0         216 KB  conda-forge\n",
            "    libarchive-3.5.2           |       hb890918_3         1.6 MB  conda-forge\n",
            "    libdeflate-1.12            |       h166bdaf_0          78 KB  conda-forge\n",
            "    libffi-3.4.2               |       h7f98852_5          57 KB  conda-forge\n",
            "    libgcc-ng-12.1.0           |      h8d9b700_16         940 KB  conda-forge\n",
            "    libgd-2.3.3                |       h18fbbfe_3         266 KB  conda-forge\n",
            "    libglib-2.70.2             |       h174f98d_4         3.1 MB  conda-forge\n",
            "    libgomp-12.1.0             |      h8d9b700_16         459 KB  conda-forge\n",
            "    libnsl-2.0.0               |       h7f98852_0          31 KB  conda-forge\n",
            "    libpng-1.6.37              |       h21135ba_2         306 KB  conda-forge\n",
            "    librsvg-2.54.3             |       h7abd40a_0         6.4 MB  conda-forge\n",
            "    libstdcxx-ng-12.1.0        |      ha89aaad_16         4.3 MB  conda-forge\n",
            "    libtiff-4.4.0              |       hc85c160_1         638 KB  conda-forge\n",
            "    libtool-2.4.6              |    h9c3ff4c_1008         511 KB  conda-forge\n",
            "    libuuid-2.32.1             |    h7f98852_1000          28 KB  conda-forge\n",
            "    libwebp-1.2.2              |       h3452ae3_0          85 KB  conda-forge\n",
            "    libwebp-base-1.2.2         |       h7f98852_1         824 KB  conda-forge\n",
            "    libxcb-1.13                |    h7f98852_1004         391 KB  conda-forge\n",
            "    libxml2-2.9.14             |       h22db469_0         770 KB  conda-forge\n",
            "    libzlib-1.2.12             |       h166bdaf_1          63 KB  conda-forge\n",
            "    ncurses-6.3                |       h27087fc_1        1002 KB  conda-forge\n",
            "    openssl-1.1.1o             |       h166bdaf_0         2.1 MB  conda-forge\n",
            "    pango-1.50.7               |       hbd2fdc8_0         456 KB  conda-forge\n",
            "    pcre-8.45                  |       h9c3ff4c_0         253 KB  conda-forge\n",
            "    pixman-0.40.0              |       h36c2ea0_0         627 KB  conda-forge\n",
            "    pthread-stubs-0.4          |    h36c2ea0_1001           5 KB  conda-forge\n",
            "    python-3.7.12              |hb7a2778_100_cpython        57.3 MB  conda-forge\n",
            "    python_abi-3.7             |          2_cp37m           4 KB  conda-forge\n",
            "    readline-8.1.2             |       h0f457ee_0         291 KB  conda-forge\n",
            "    spot-2.10.6                |   py37hd23a5d3_0         9.2 MB  conda-forge\n",
            "    sqlite-3.38.5              |       h4ff8645_0         1.5 MB  conda-forge\n",
            "    tk-8.6.12                  |       h27826a3_0         3.3 MB  conda-forge\n",
            "    xorg-kbproto-1.0.7         |    h7f98852_1002          27 KB  conda-forge\n",
            "    xorg-libice-1.0.10         |       h7f98852_0          58 KB  conda-forge\n",
            "    xorg-libsm-1.2.3           |    hd9c2040_1000          26 KB  conda-forge\n",
            "    xorg-libx11-1.7.2          |       h7f98852_0         941 KB  conda-forge\n",
            "    xorg-libxau-1.0.9          |       h7f98852_0          13 KB  conda-forge\n",
            "    xorg-libxdmcp-1.1.3        |       h7f98852_0          19 KB  conda-forge\n",
            "    xorg-libxext-1.3.4         |       h7f98852_1          54 KB  conda-forge\n",
            "    xorg-libxrender-0.9.10     |    h7f98852_1003          32 KB  conda-forge\n",
            "    xorg-renderproto-0.11.1    |    h7f98852_1002           9 KB  conda-forge\n",
            "    xorg-xextproto-7.3.0       |    h7f98852_1002          28 KB  conda-forge\n",
            "    xorg-xproto-7.0.31         |    h7f98852_1007          73 KB  conda-forge\n",
            "    zlib-1.2.12                |       h166bdaf_1          91 KB  conda-forge\n",
            "    zstd-1.5.2                 |       h8a70e8d_1         452 KB  conda-forge\n",
            "    ------------------------------------------------------------\n",
            "                                           Total:       137.4 MB\n",
            "\n",
            "The following NEW packages will be INSTALLED:\n",
            "\n",
            "  atk-1.0            conda-forge/linux-64::atk-1.0-2.36.0-h3371d22_4\n",
            "  cairo              conda-forge/linux-64::cairo-1.16.0-ha61ee94_1011\n",
            "  expat              conda-forge/linux-64::expat-2.4.8-h27087fc_0\n",
            "  font-ttf-dejavu-s~ conda-forge/noarch::font-ttf-dejavu-sans-mono-2.37-hab24e00_0\n",
            "  font-ttf-inconsol~ conda-forge/noarch::font-ttf-inconsolata-3.000-h77eed37_0\n",
            "  font-ttf-source-c~ conda-forge/noarch::font-ttf-source-code-pro-2.038-h77eed37_0\n",
            "  font-ttf-ubuntu    conda-forge/noarch::font-ttf-ubuntu-0.83-hab24e00_0\n",
            "  fontconfig         conda-forge/linux-64::fontconfig-2.14.0-h8e229c2_0\n",
            "  fonts-conda-ecosy~ conda-forge/noarch::fonts-conda-ecosystem-1-0\n",
            "  fonts-conda-forge  conda-forge/noarch::fonts-conda-forge-1-0\n",
            "  freetype           conda-forge/linux-64::freetype-2.10.4-h0708190_1\n",
            "  fribidi            conda-forge/linux-64::fribidi-1.0.10-h36c2ea0_0\n",
            "  gdk-pixbuf         conda-forge/linux-64::gdk-pixbuf-2.42.8-hff1cb4f_0\n",
            "  gettext            conda-forge/linux-64::gettext-0.19.8.1-h73d1719_1008\n",
            "  giflib             conda-forge/linux-64::giflib-5.2.1-h36c2ea0_2\n",
            "  graphite2          conda-forge/linux-64::graphite2-1.3.13-h58526e2_1001\n",
            "  graphviz           conda-forge/linux-64::graphviz-4.0.0-h5abf519_0\n",
            "  gtk2               conda-forge/linux-64::gtk2-2.24.33-h90689f9_2\n",
            "  gts                conda-forge/linux-64::gts-0.7.6-h64030ff_2\n",
            "  harfbuzz           conda-forge/linux-64::harfbuzz-4.3.0-hf9f4e7c_0\n",
            "  jpeg               conda-forge/linux-64::jpeg-9e-h166bdaf_1\n",
            "  lerc               conda-forge/linux-64::lerc-3.0-h9c3ff4c_0\n",
            "  libdeflate         conda-forge/linux-64::libdeflate-1.12-h166bdaf_0\n",
            "  libgd              conda-forge/linux-64::libgd-2.3.3-h18fbbfe_3\n",
            "  libglib            conda-forge/linux-64::libglib-2.70.2-h174f98d_4\n",
            "  libnsl             conda-forge/linux-64::libnsl-2.0.0-h7f98852_0\n",
            "  libpng             conda-forge/linux-64::libpng-1.6.37-h21135ba_2\n",
            "  librsvg            conda-forge/linux-64::librsvg-2.54.3-h7abd40a_0\n",
            "  libtiff            conda-forge/linux-64::libtiff-4.4.0-hc85c160_1\n",
            "  libtool            conda-forge/linux-64::libtool-2.4.6-h9c3ff4c_1008\n",
            "  libuuid            conda-forge/linux-64::libuuid-2.32.1-h7f98852_1000\n",
            "  libwebp            conda-forge/linux-64::libwebp-1.2.2-h3452ae3_0\n",
            "  libwebp-base       conda-forge/linux-64::libwebp-base-1.2.2-h7f98852_1\n",
            "  libxcb             conda-forge/linux-64::libxcb-1.13-h7f98852_1004\n",
            "  libzlib            conda-forge/linux-64::libzlib-1.2.12-h166bdaf_1\n",
            "  pango              conda-forge/linux-64::pango-1.50.7-hbd2fdc8_0\n",
            "  pcre               conda-forge/linux-64::pcre-8.45-h9c3ff4c_0\n",
            "  pixman             conda-forge/linux-64::pixman-0.40.0-h36c2ea0_0\n",
            "  pthread-stubs      conda-forge/linux-64::pthread-stubs-0.4-h36c2ea0_1001\n",
            "  spot               conda-forge/linux-64::spot-2.10.6-py37hd23a5d3_0\n",
            "  xorg-kbproto       conda-forge/linux-64::xorg-kbproto-1.0.7-h7f98852_1002\n",
            "  xorg-libice        conda-forge/linux-64::xorg-libice-1.0.10-h7f98852_0\n",
            "  xorg-libsm         conda-forge/linux-64::xorg-libsm-1.2.3-hd9c2040_1000\n",
            "  xorg-libx11        conda-forge/linux-64::xorg-libx11-1.7.2-h7f98852_0\n",
            "  xorg-libxau        conda-forge/linux-64::xorg-libxau-1.0.9-h7f98852_0\n",
            "  xorg-libxdmcp      conda-forge/linux-64::xorg-libxdmcp-1.1.3-h7f98852_0\n",
            "  xorg-libxext       conda-forge/linux-64::xorg-libxext-1.3.4-h7f98852_1\n",
            "  xorg-libxrender    conda-forge/linux-64::xorg-libxrender-0.9.10-h7f98852_1003\n",
            "  xorg-renderproto   conda-forge/linux-64::xorg-renderproto-0.11.1-h7f98852_1002\n",
            "  xorg-xextproto     conda-forge/linux-64::xorg-xextproto-7.3.0-h7f98852_1002\n",
            "  xorg-xproto        conda-forge/linux-64::xorg-xproto-7.0.31-h7f98852_1007\n",
            "\n",
            "The following packages will be UPDATED:\n",
            "\n",
            "  ca-certificates                      2020.12.5-ha878542_0 --> 2022.6.15-ha878542_0\n",
            "  certifi                          2020.12.5-py37h89c1867_1 --> 2022.6.15-py37h89c1867_0\n",
            "  cffi                                1.14.5-py37hc58025e_0 --> 1.15.0-py37h036bc23_0\n",
            "  conda                                4.9.2-py37h89c1867_0 --> 4.13.0-py37h89c1867_1\n",
            "  icu                                       68.1-h58526e2_0 --> 70.1-h27087fc_0\n",
            "  libarchive                               3.5.1-h3f442fb_1 --> 3.5.2-hb890918_3\n",
            "  libffi                                     3.3-h58526e2_2 --> 3.4.2-h7f98852_5\n",
            "  libgcc-ng                               9.3.0-h2828fa1_18 --> 12.1.0-h8d9b700_16\n",
            "  libgomp                                 9.3.0-h2828fa1_18 --> 12.1.0-h8d9b700_16\n",
            "  libstdcxx-ng                            9.3.0-h6de172a_18 --> 12.1.0-ha89aaad_16\n",
            "  libxml2                                 2.9.10-h72842e0_3 --> 2.9.14-h22db469_0\n",
            "  ncurses                                    6.2-h58526e2_4 --> 6.3-h27087fc_1\n",
            "  openssl                                 1.1.1j-h7f98852_0 --> 1.1.1o-h166bdaf_0\n",
            "  python                        3.7.10-hffdb5ce_100_cpython --> 3.7.12-hb7a2778_100_cpython\n",
            "  python_abi                                    3.7-1_cp37m --> 3.7-2_cp37m\n",
            "  readline                                   8.0-he28a2e2_2 --> 8.1.2-h0f457ee_0\n",
            "  sqlite                                  3.34.0-h74cdb3f_0 --> 3.38.5-h4ff8645_0\n",
            "  tk                                      8.6.10-h21135ba_1 --> 8.6.12-h27826a3_0\n",
            "  zlib                                 1.2.11-h516909a_1010 --> 1.2.12-h166bdaf_1\n",
            "  zstd                                     1.4.9-ha95c52a_0 --> 1.5.2-h8a70e8d_1\n",
            "\n",
            "\n",
            "\n",
            "Downloading and Extracting Packages\n",
            "gettext-0.19.8.1     | 3.6 MB    | : 100% 1.0/1 [00:00<00:00,  1.21it/s]\n",
            "python_abi-3.7       | 4 KB      | : 100% 1.0/1 [00:00<00:00, 32.41it/s]\n",
            "cffi-1.15.0          | 225 KB    | : 100% 1.0/1 [00:00<00:00, 15.50it/s]\n",
            "xorg-xproto-7.0.31   | 73 KB     | : 100% 1.0/1 [00:00<00:00, 24.35it/s]\n",
            "font-ttf-dejavu-sans | 388 KB    | : 100% 1.0/1 [00:00<00:00, 12.92it/s]\n",
            "libgd-2.3.3          | 266 KB    | : 100% 1.0/1 [00:00<00:00, 11.93it/s]\n",
            "pthread-stubs-0.4    | 5 KB      | : 100% 1.0/1 [00:00<00:00, 32.72it/s]\n",
            "readline-8.1.2       | 291 KB    | : 100% 1.0/1 [00:00<00:00, 14.14it/s]\n",
            "libstdcxx-ng-12.1.0  | 4.3 MB    | : 100% 1.0/1 [00:00<00:00,  1.63it/s]\n",
            "lerc-3.0             | 216 KB    | : 100% 1.0/1 [00:00<00:00, 13.24it/s]\n",
            "libxcb-1.13          | 391 KB    | : 100% 1.0/1 [00:00<00:00,  8.47it/s]\n",
            "libdeflate-1.12      | 78 KB     | : 100% 1.0/1 [00:00<00:00, 25.70it/s]\n",
            "font-ttf-ubuntu-0.83 | 1.9 MB    | : 100% 1.0/1 [00:00<00:00,  3.98it/s]\n",
            "gdk-pixbuf-2.42.8    | 595 KB    | : 100% 1.0/1 [00:00<00:00,  6.12it/s]\n",
            "zlib-1.2.12          | 91 KB     | : 100% 1.0/1 [00:00<00:00, 27.15it/s]\n",
            "xorg-libxdmcp-1.1.3  | 19 KB     | : 100% 1.0/1 [00:00<00:00, 38.01it/s]\n",
            "xorg-renderproto-0.1 | 9 KB      | : 100% 1.0/1 [00:00<00:00, 26.16it/s]\n",
            "tk-8.6.12            | 3.3 MB    | : 100% 1.0/1 [00:00<00:00,  1.88it/s]\n",
            "libwebp-base-1.2.2   | 824 KB    | : 100% 1.0/1 [00:00<00:00,  5.80it/s]\n",
            "sqlite-3.38.5        | 1.5 MB    | : 100% 1.0/1 [00:00<00:00,  4.13it/s]\n",
            "libgcc-ng-12.1.0     | 940 KB    | : 100% 1.0/1 [00:00<00:00,  6.79it/s]\n",
            "libxml2-2.9.14       | 770 KB    | : 100% 1.0/1 [00:00<00:00,  6.77it/s]\n",
            "python-3.7.12        | 57.3 MB   | : 100% 1.0/1 [00:06<00:00,  6.65s/it]               \n",
            "xorg-libxext-1.3.4   | 54 KB     | : 100% 1.0/1 [00:00<00:00, 29.01it/s]\n",
            "libarchive-3.5.2     | 1.6 MB    | : 100% 1.0/1 [00:00<00:00,  3.86it/s]\n",
            "graphviz-4.0.0       | 2.7 MB    | : 100% 1.0/1 [00:00<00:00,  2.73it/s]\n",
            "xorg-kbproto-1.0.7   | 27 KB     | : 100% 1.0/1 [00:00<00:00, 36.25it/s]\n",
            "libpng-1.6.37        | 306 KB    | : 100% 1.0/1 [00:00<00:00, 12.25it/s]\n",
            "harfbuzz-4.3.0       | 2.0 MB    | : 100% 1.0/1 [00:00<00:00,  2.74it/s]\n",
            "libtool-2.4.6        | 511 KB    | : 100% 1.0/1 [00:00<00:00,  8.10it/s]\n",
            "libzlib-1.2.12       | 63 KB     | : 100% 1.0/1 [00:00<00:00, 30.55it/s]\n",
            "conda-4.13.0         | 989 KB    | : 100% 1.0/1 [00:00<00:00,  4.52it/s]\n",
            "gtk2-2.24.33         | 7.4 MB    | : 100% 1.0/1 [00:01<00:00,  1.44s/it]\n",
            "fonts-conda-forge-1  | 4 KB      | : 100% 1.0/1 [00:00<00:00, 36.01it/s]\n",
            "font-ttf-source-code | 684 KB    | : 100% 1.0/1 [00:00<00:00,  8.53it/s]\n",
            "freetype-2.10.4      | 890 KB    | : 100% 1.0/1 [00:00<00:00,  1.90it/s]\n",
            "libwebp-1.2.2        | 85 KB     | : 100% 1.0/1 [00:00<00:00, 26.65it/s]\n",
            "xorg-libice-1.0.10   | 58 KB     | : 100% 1.0/1 [00:00<00:00, 31.30it/s]\n",
            "librsvg-2.54.3       | 6.4 MB    | : 100% 1.0/1 [00:00<00:00,  1.03it/s]\n",
            "spot-2.10.6          | 9.2 MB    | : 100% 1.0/1 [00:01<00:00,  1.59s/it]\n",
            "gts-0.7.6            | 411 KB    | : 100% 1.0/1 [00:00<00:00, 10.18it/s]\n",
            "icu-70.1             | 13.5 MB   | : 100% 1.0/1 [00:01<00:00,  1.91s/it]               \n",
            "cairo-1.16.0         | 1.5 MB    | : 100% 1.0/1 [00:00<00:00,  3.29it/s]\n",
            "font-ttf-inconsolata | 94 KB     | : 100% 1.0/1 [00:00<00:00, 26.68it/s]\n",
            "pango-1.50.7         | 456 KB    | : 100% 1.0/1 [00:00<00:00,  8.74it/s]\n",
            "ca-certificates-2022 | 149 KB    | : 100% 1.0/1 [00:00<00:00, 23.00it/s]\n",
            "pcre-8.45            | 253 KB    | : 100% 1.0/1 [00:00<00:00, 13.32it/s]\n",
            "pixman-0.40.0        | 627 KB    | : 100% 1.0/1 [00:00<00:00,  8.88it/s]\n",
            "openssl-1.1.1o       | 2.1 MB    | : 100% 1.0/1 [00:00<00:00,  3.00it/s]\n",
            "atk-1.0-2.36.0       | 560 KB    | : 100% 1.0/1 [00:00<00:00,  6.80it/s]\n",
            "graphite2-1.3.13     | 102 KB    | : 100% 1.0/1 [00:00<00:00, 19.91it/s]\n",
            "libgomp-12.1.0       | 459 KB    | : 100% 1.0/1 [00:00<00:00, 10.25it/s]\n",
            "libnsl-2.0.0         | 31 KB     | : 100% 1.0/1 [00:00<00:00, 16.96it/s]\n",
            "xorg-libxau-1.0.9    | 13 KB     | : 100% 1.0/1 [00:00<00:00, 40.90it/s]\n",
            "jpeg-9e              | 268 KB    | : 100% 1.0/1 [00:00<00:00, 11.70it/s]\n",
            "fribidi-1.0.10       | 112 KB    | : 100% 1.0/1 [00:00<00:00, 23.23it/s]\n",
            "libglib-2.70.2       | 3.1 MB    | : 100% 1.0/1 [00:00<00:00,  1.63it/s]               \n",
            "zstd-1.5.2           | 452 KB    | : 100% 1.0/1 [00:00<00:00, 11.17it/s]\n",
            "fonts-conda-ecosyste | 4 KB      | : 100% 1.0/1 [00:00<00:00, 37.21it/s]\n",
            "ncurses-6.3          | 1002 KB   | : 100% 1.0/1 [00:00<00:00,  2.95it/s]\n",
            "libtiff-4.4.0        | 638 KB    | : 100% 1.0/1 [00:00<00:00,  5.75it/s]\n",
            "xorg-libx11-1.7.2    | 941 KB    | : 100% 1.0/1 [00:00<00:00,  6.13it/s]\n",
            "fontconfig-2.14.0    | 305 KB    | : 100% 1.0/1 [00:00<00:00, 12.61it/s]\n",
            "certifi-2022.6.15    | 155 KB    | : 100% 1.0/1 [00:00<00:00, 21.01it/s]\n",
            "xorg-libxrender-0.9. | 32 KB     | : 100% 1.0/1 [00:00<00:00, 32.85it/s]\n",
            "xorg-libsm-1.2.3     | 26 KB     | : 100% 1.0/1 [00:00<00:00, 42.87it/s]\n",
            "giflib-5.2.1         | 77 KB     | : 100% 1.0/1 [00:00<00:00, 27.05it/s]\n",
            "xorg-xextproto-7.3.0 | 28 KB     | : 100% 1.0/1 [00:00<00:00, 33.81it/s]\n",
            "libffi-3.4.2         | 57 KB     | : 100% 1.0/1 [00:00<00:00, 30.60it/s]\n",
            "expat-2.4.8          | 187 KB    | : 100% 1.0/1 [00:00<00:00, 19.37it/s]\n",
            "libuuid-2.32.1       | 28 KB     | : 100% 1.0/1 [00:00<00:00, 36.69it/s]\n",
            "Preparing transaction: \\ \b\b| \b\b/ \b\b- \b\b\\ \b\bdone\n",
            "Verifying transaction: / \b\b- \b\b\\ \b\b| \b\b/ \b\b- \b\b\\ \b\b| \b\b/ \b\b- \b\b\\ \b\b| \b\b/ \b\b- \b\b\\ \b\b| \b\b/ \b\b- \b\b\\ \b\b| \b\b/ \b\b- \b\bdone\n",
            "Executing transaction: | \b\b/ \b\b- \b\b\\ \b\b| \b\b/ \b\b- \b\b\\ \b\b| \b\b/ \n",
            "\b\b- \b\b\\ \b\b| \n",
            "\b\b/ \b\b- \b\b\\ \b\b| \b\b/ \b\b- \b\b\\ \b\bdone\n"
          ]
        }
      ]
    },
    {
      "cell_type": "markdown",
      "source": [
        "## –2– Generating data"
      ],
      "metadata": {
        "id": "WgbVV5F6N2va"
      }
    },
    {
      "cell_type": "markdown",
      "source": [
        "The basic commands to generate training/testing data, LTL formulas and propositional logic formulas respectively"
      ],
      "metadata": {
        "id": "JXaML3lfMZlQ"
      }
    },
    {
      "cell_type": "code",
      "source": [
        "# LTL data\n",
        "python -m deepltl.data.generator --num-aps 5 --num-formulas 1000000 --tree-size 35 --timeout 120 --alpha 0.112"
      ],
      "metadata": {
        "id": "II_3lzpkNzU-"
      },
      "execution_count": null,
      "outputs": []
    },
    {
      "cell_type": "code",
      "source": [
        "# propositional logic data\n",
        "python -m deepltl.data.sat_generator --num-aps 5 --num-examples 1000000 --max-size 35 --alpha 0.095 --target-directory data_prop"
      ],
      "metadata": {
        "id": "EKGPvXFRN9al"
      },
      "execution_count": null,
      "outputs": []
    },
    {
      "cell_type": "markdown",
      "source": [
        "## –3– Data analysis"
      ],
      "metadata": {
        "id": "N6hWasjmMS03"
      }
    },
    {
      "cell_type": "markdown",
      "source": [
        "Visualization of formulas and traces"
      ],
      "metadata": {
        "id": "LdAN5uaAMoU_"
      }
    },
    {
      "cell_type": "markdown",
      "source": [
        "## –4– Preprocessing for new testing regime"
      ],
      "metadata": {
        "id": "JK-ITRBCNEkq"
      }
    },
    {
      "cell_type": "markdown",
      "source": [
        "Most basic function: split by formula length"
      ],
      "metadata": {
        "id": "s9K-R23iNQho"
      }
    }
  ]
}