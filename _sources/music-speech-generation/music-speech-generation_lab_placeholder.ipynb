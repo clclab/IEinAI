{
  "cells": [
    {
      "cell_type": "markdown",
      "metadata": {
        "id": "QCxnPWqNOHUU"
      },
      "source": [
        "# Speech perception lab 2 placeholder\n",
        "\n",
        "TBA (Marianne & Marta)"
      ]
    },
    {
      "cell_type": "code",
      "execution_count": null,
      "metadata": {},
      "outputs": [],
      "source": [
        "!pip install transformers"
      ]
    },
    {
      "cell_type": "code",
      "execution_count": null,
      "metadata": {},
      "outputs": [],
      "source": [
        "from transformers import (\n",
        "    AutoModel,\n",
        "    Wav2Vec2Processor,\n",
        "    Wav2Vec2FeatureExtractor,\n",
        "    Wav2Vec2CTCTokenizer,\n",
        ")"
      ]
    },
    {
      "cell_type": "markdown",
      "metadata": {},
      "source": [
        "Test loading [wav2vec2-base-960h](https://huggingface.co/facebook/wav2vec2-base-960h) model"
      ]
    },
    {
      "cell_type": "code",
      "execution_count": null,
      "metadata": {},
      "outputs": [],
      "source": [
        "model = AutoModel.from_pretrained(\"facebook/wav2vec2-base-960h\")\n",
        "print(model.config)"
      ]
    }
  ],
  "metadata": {
    "accelerator": "GPU",
    "colab": {
      "provenance": []
    },
    "gpuClass": "standard",
    "kernelspec": {
      "display_name": "Python 3",
      "name": "python3"
    },
    "language_info": {
      "name": "python",
      "version": "3.10.12"
    }
  },
  "nbformat": 4,
  "nbformat_minor": 0
}
